{
 "cells": [
  {
   "cell_type": "markdown",
   "metadata": {},
   "source": [
    "# Introduction"
   ]
  },
  {
   "cell_type": "markdown",
   "metadata": {},
   "source": [
    "### The objective\n",
    "is To build a chatbot that recommends movies based on the user's mood and can engage in discussions about movies."
   ]
  },
  {
   "cell_type": "markdown",
   "metadata": {},
   "source": [
    "### Key Features :\n",
    "1. Mood-Based Recommendations:\n",
    "\n",
    "- The chatbot will recommend movies tailored to the user's current mood (e.g., happy, sad, adventurous, romantic, scared).\n",
    "- It will map user moods to corresponding movie genres using a predefined dataset of movies.\n",
    "\n",
    "\n",
    "2. Movie Discussions:\n",
    "\n",
    "The chatbot will provide information about specific movies, such as:\n",
    "- Synopsis\n",
    "- Genre\n",
    "- Release year\n",
    "- Similar movie recommendations"
   ]
  },
  {
   "cell_type": "markdown",
   "metadata": {},
   "source": [
    "# Dataset"
   ]
  },
  {
   "cell_type": "code",
   "execution_count": 1,
   "metadata": {
    "execution": {
     "iopub.execute_input": "2024-12-05T12:47:39.207006Z",
     "iopub.status.busy": "2024-12-05T12:47:39.206739Z",
     "iopub.status.idle": "2024-12-05T12:47:44.146465Z",
     "shell.execute_reply": "2024-12-05T12:47:44.145569Z",
     "shell.execute_reply.started": "2024-12-05T12:47:39.206979Z"
    },
    "trusted": true
   },
   "outputs": [
    {
     "name": "stdout",
     "output_type": "stream",
     "text": [
      "Path to dataset files: /kaggle/input/movies-dataset\n"
     ]
    }
   ],
   "source": [
    "import kagglehub\n",
    "\n",
    "# Download latest version\n",
    "path = kagglehub.dataset_download(\"akshaydattatraykhare/movies-dataset\")\n",
    "\n",
    "print(\"Path to dataset files:\", path)"
   ]
  },
  {
   "cell_type": "code",
   "execution_count": 2,
   "metadata": {
    "execution": {
     "iopub.execute_input": "2024-12-06T10:32:35.445146Z",
     "iopub.status.busy": "2024-12-06T10:32:35.444374Z",
     "iopub.status.idle": "2024-12-06T10:32:35.535379Z",
     "shell.execute_reply": "2024-12-06T10:32:35.534659Z",
     "shell.execute_reply.started": "2024-12-06T10:32:35.445111Z"
    },
    "trusted": true
   },
   "outputs": [],
   "source": [
    "import pandas as pd\n",
    "\n",
    "df = pd.read_csv(\"/kaggle/input/movies-dataset/tmdb_5000_movies.csv\")"
   ]
  },
  {
   "cell_type": "code",
   "execution_count": 3,
   "metadata": {
    "collapsed": true,
    "execution": {
     "iopub.execute_input": "2024-12-06T10:32:36.138181Z",
     "iopub.status.busy": "2024-12-06T10:32:36.137562Z",
     "iopub.status.idle": "2024-12-06T10:32:36.163437Z",
     "shell.execute_reply": "2024-12-06T10:32:36.162652Z",
     "shell.execute_reply.started": "2024-12-06T10:32:36.138147Z"
    },
    "jupyter": {
     "outputs_hidden": true
    },
    "trusted": true
   },
   "outputs": [
    {
     "data": {
      "text/plain": [
       "<bound method NDFrame.describe of          budget                                             genres  \\\n",
       "0     237000000  [{\"id\": 28, \"name\": \"Action\"}, {\"id\": 12, \"nam...   \n",
       "1     300000000  [{\"id\": 12, \"name\": \"Adventure\"}, {\"id\": 14, \"...   \n",
       "2     245000000  [{\"id\": 28, \"name\": \"Action\"}, {\"id\": 12, \"nam...   \n",
       "3     250000000  [{\"id\": 28, \"name\": \"Action\"}, {\"id\": 80, \"nam...   \n",
       "4     260000000  [{\"id\": 28, \"name\": \"Action\"}, {\"id\": 12, \"nam...   \n",
       "...         ...                                                ...   \n",
       "4798     220000  [{\"id\": 28, \"name\": \"Action\"}, {\"id\": 80, \"nam...   \n",
       "4799       9000  [{\"id\": 35, \"name\": \"Comedy\"}, {\"id\": 10749, \"...   \n",
       "4800          0  [{\"id\": 35, \"name\": \"Comedy\"}, {\"id\": 18, \"nam...   \n",
       "4801          0                                                 []   \n",
       "4802          0                [{\"id\": 99, \"name\": \"Documentary\"}]   \n",
       "\n",
       "                                               homepage      id  \\\n",
       "0                           http://www.avatarmovie.com/   19995   \n",
       "1          http://disney.go.com/disneypictures/pirates/     285   \n",
       "2           http://www.sonypictures.com/movies/spectre/  206647   \n",
       "3                    http://www.thedarkknightrises.com/   49026   \n",
       "4                  http://movies.disney.com/john-carter   49529   \n",
       "...                                                 ...     ...   \n",
       "4798                                                NaN    9367   \n",
       "4799                                                NaN   72766   \n",
       "4800  http://www.hallmarkchannel.com/signedsealeddel...  231617   \n",
       "4801                        http://shanghaicalling.com/  126186   \n",
       "4802                                                NaN   25975   \n",
       "\n",
       "                                               keywords original_language  \\\n",
       "0     [{\"id\": 1463, \"name\": \"culture clash\"}, {\"id\":...                en   \n",
       "1     [{\"id\": 270, \"name\": \"ocean\"}, {\"id\": 726, \"na...                en   \n",
       "2     [{\"id\": 470, \"name\": \"spy\"}, {\"id\": 818, \"name...                en   \n",
       "3     [{\"id\": 849, \"name\": \"dc comics\"}, {\"id\": 853,...                en   \n",
       "4     [{\"id\": 818, \"name\": \"based on novel\"}, {\"id\":...                en   \n",
       "...                                                 ...               ...   \n",
       "4798  [{\"id\": 5616, \"name\": \"united states\\u2013mexi...                es   \n",
       "4799                                                 []                en   \n",
       "4800  [{\"id\": 248, \"name\": \"date\"}, {\"id\": 699, \"nam...                en   \n",
       "4801                                                 []                en   \n",
       "4802  [{\"id\": 1523, \"name\": \"obsession\"}, {\"id\": 224...                en   \n",
       "\n",
       "                                original_title  \\\n",
       "0                                       Avatar   \n",
       "1     Pirates of the Caribbean: At World's End   \n",
       "2                                      Spectre   \n",
       "3                        The Dark Knight Rises   \n",
       "4                                  John Carter   \n",
       "...                                        ...   \n",
       "4798                               El Mariachi   \n",
       "4799                                 Newlyweds   \n",
       "4800                 Signed, Sealed, Delivered   \n",
       "4801                          Shanghai Calling   \n",
       "4802                         My Date with Drew   \n",
       "\n",
       "                                               overview  popularity  \\\n",
       "0     In the 22nd century, a paraplegic Marine is di...  150.437577   \n",
       "1     Captain Barbossa, long believed to be dead, ha...  139.082615   \n",
       "2     A cryptic message from Bond’s past sends him o...  107.376788   \n",
       "3     Following the death of District Attorney Harve...  112.312950   \n",
       "4     John Carter is a war-weary, former military ca...   43.926995   \n",
       "...                                                 ...         ...   \n",
       "4798  El Mariachi just wants to play his guitar and ...   14.269792   \n",
       "4799  A newlywed couple's honeymoon is upended by th...    0.642552   \n",
       "4800  \"Signed, Sealed, Delivered\" introduces a dedic...    1.444476   \n",
       "4801  When ambitious New York attorney Sam is sent t...    0.857008   \n",
       "4802  Ever since the second grade when he first saw ...    1.929883   \n",
       "\n",
       "                                   production_companies  \\\n",
       "0     [{\"name\": \"Ingenious Film Partners\", \"id\": 289...   \n",
       "1     [{\"name\": \"Walt Disney Pictures\", \"id\": 2}, {\"...   \n",
       "2     [{\"name\": \"Columbia Pictures\", \"id\": 5}, {\"nam...   \n",
       "3     [{\"name\": \"Legendary Pictures\", \"id\": 923}, {\"...   \n",
       "4           [{\"name\": \"Walt Disney Pictures\", \"id\": 2}]   \n",
       "...                                                 ...   \n",
       "4798           [{\"name\": \"Columbia Pictures\", \"id\": 5}]   \n",
       "4799                                                 []   \n",
       "4800  [{\"name\": \"Front Street Pictures\", \"id\": 3958}...   \n",
       "4801                                                 []   \n",
       "4802  [{\"name\": \"rusty bear entertainment\", \"id\": 87...   \n",
       "\n",
       "                                   production_countries release_date  \\\n",
       "0     [{\"iso_3166_1\": \"US\", \"name\": \"United States o...   2009-12-10   \n",
       "1     [{\"iso_3166_1\": \"US\", \"name\": \"United States o...   2007-05-19   \n",
       "2     [{\"iso_3166_1\": \"GB\", \"name\": \"United Kingdom\"...   2015-10-26   \n",
       "3     [{\"iso_3166_1\": \"US\", \"name\": \"United States o...   2012-07-16   \n",
       "4     [{\"iso_3166_1\": \"US\", \"name\": \"United States o...   2012-03-07   \n",
       "...                                                 ...          ...   \n",
       "4798  [{\"iso_3166_1\": \"MX\", \"name\": \"Mexico\"}, {\"iso...   1992-09-04   \n",
       "4799                                                 []   2011-12-26   \n",
       "4800  [{\"iso_3166_1\": \"US\", \"name\": \"United States o...   2013-10-13   \n",
       "4801  [{\"iso_3166_1\": \"US\", \"name\": \"United States o...   2012-05-03   \n",
       "4802  [{\"iso_3166_1\": \"US\", \"name\": \"United States o...   2005-08-05   \n",
       "\n",
       "         revenue  runtime                                   spoken_languages  \\\n",
       "0     2787965087    162.0  [{\"iso_639_1\": \"en\", \"name\": \"English\"}, {\"iso...   \n",
       "1      961000000    169.0           [{\"iso_639_1\": \"en\", \"name\": \"English\"}]   \n",
       "2      880674609    148.0  [{\"iso_639_1\": \"fr\", \"name\": \"Fran\\u00e7ais\"},...   \n",
       "3     1084939099    165.0           [{\"iso_639_1\": \"en\", \"name\": \"English\"}]   \n",
       "4      284139100    132.0           [{\"iso_639_1\": \"en\", \"name\": \"English\"}]   \n",
       "...          ...      ...                                                ...   \n",
       "4798     2040920     81.0      [{\"iso_639_1\": \"es\", \"name\": \"Espa\\u00f1ol\"}]   \n",
       "4799           0     85.0                                                 []   \n",
       "4800           0    120.0           [{\"iso_639_1\": \"en\", \"name\": \"English\"}]   \n",
       "4801           0     98.0           [{\"iso_639_1\": \"en\", \"name\": \"English\"}]   \n",
       "4802           0     90.0           [{\"iso_639_1\": \"en\", \"name\": \"English\"}]   \n",
       "\n",
       "        status                                            tagline  \\\n",
       "0     Released                        Enter the World of Pandora.   \n",
       "1     Released     At the end of the world, the adventure begins.   \n",
       "2     Released                              A Plan No One Escapes   \n",
       "3     Released                                    The Legend Ends   \n",
       "4     Released               Lost in our world, found in another.   \n",
       "...        ...                                                ...   \n",
       "4798  Released  He didn't come looking for trouble, but troubl...   \n",
       "4799  Released  A newlywed couple's honeymoon is upended by th...   \n",
       "4800  Released                                                NaN   \n",
       "4801  Released                           A New Yorker in Shanghai   \n",
       "4802  Released                                                NaN   \n",
       "\n",
       "                                         title  vote_average  vote_count  \n",
       "0                                       Avatar           7.2       11800  \n",
       "1     Pirates of the Caribbean: At World's End           6.9        4500  \n",
       "2                                      Spectre           6.3        4466  \n",
       "3                        The Dark Knight Rises           7.6        9106  \n",
       "4                                  John Carter           6.1        2124  \n",
       "...                                        ...           ...         ...  \n",
       "4798                               El Mariachi           6.6         238  \n",
       "4799                                 Newlyweds           5.9           5  \n",
       "4800                 Signed, Sealed, Delivered           7.0           6  \n",
       "4801                          Shanghai Calling           5.7           7  \n",
       "4802                         My Date with Drew           6.3          16  \n",
       "\n",
       "[4803 rows x 20 columns]>"
      ]
     },
     "execution_count": 3,
     "metadata": {},
     "output_type": "execute_result"
    }
   ],
   "source": [
    "df.describe"
   ]
  },
  {
   "cell_type": "code",
   "execution_count": 4,
   "metadata": {
    "execution": {
     "iopub.execute_input": "2024-12-06T10:32:39.041679Z",
     "iopub.status.busy": "2024-12-06T10:32:39.041292Z",
     "iopub.status.idle": "2024-12-06T10:32:39.048125Z",
     "shell.execute_reply": "2024-12-06T10:32:39.047135Z",
     "shell.execute_reply.started": "2024-12-06T10:32:39.041642Z"
    },
    "trusted": true
   },
   "outputs": [
    {
     "data": {
      "text/plain": [
       "Index(['budget', 'genres', 'homepage', 'id', 'keywords', 'original_language',\n",
       "       'original_title', 'overview', 'popularity', 'production_companies',\n",
       "       'production_countries', 'release_date', 'revenue', 'runtime',\n",
       "       'spoken_languages', 'status', 'tagline', 'title', 'vote_average',\n",
       "       'vote_count'],\n",
       "      dtype='object')"
      ]
     },
     "execution_count": 4,
     "metadata": {},
     "output_type": "execute_result"
    }
   ],
   "source": [
    "df.columns"
   ]
  },
  {
   "cell_type": "code",
   "execution_count": 5,
   "metadata": {
    "execution": {
     "iopub.execute_input": "2024-12-06T10:32:40.826864Z",
     "iopub.status.busy": "2024-12-06T10:32:40.826279Z",
     "iopub.status.idle": "2024-12-06T10:32:40.834293Z",
     "shell.execute_reply": "2024-12-06T10:32:40.833319Z",
     "shell.execute_reply.started": "2024-12-06T10:32:40.826828Z"
    },
    "trusted": true
   },
   "outputs": [],
   "source": [
    "columns_delete=['budget', 'homepage', 'id','production_companies','production_countries', 'revenue', 'status', 'tagline','keywords','original_title']\n",
    "df = df.drop(columns=columns_delete)"
   ]
  },
  {
   "cell_type": "code",
   "execution_count": 6,
   "metadata": {
    "collapsed": true,
    "execution": {
     "iopub.execute_input": "2024-12-06T10:32:41.700839Z",
     "iopub.status.busy": "2024-12-06T10:32:41.700241Z",
     "iopub.status.idle": "2024-12-06T10:32:41.720441Z",
     "shell.execute_reply": "2024-12-06T10:32:41.719692Z",
     "shell.execute_reply.started": "2024-12-06T10:32:41.700799Z"
    },
    "jupyter": {
     "outputs_hidden": true
    },
    "trusted": true
   },
   "outputs": [
    {
     "data": {
      "text/html": [
       "<div>\n",
       "<style scoped>\n",
       "    .dataframe tbody tr th:only-of-type {\n",
       "        vertical-align: middle;\n",
       "    }\n",
       "\n",
       "    .dataframe tbody tr th {\n",
       "        vertical-align: top;\n",
       "    }\n",
       "\n",
       "    .dataframe thead th {\n",
       "        text-align: right;\n",
       "    }\n",
       "</style>\n",
       "<table border=\"1\" class=\"dataframe\">\n",
       "  <thead>\n",
       "    <tr style=\"text-align: right;\">\n",
       "      <th></th>\n",
       "      <th>genres</th>\n",
       "      <th>original_language</th>\n",
       "      <th>overview</th>\n",
       "      <th>popularity</th>\n",
       "      <th>release_date</th>\n",
       "      <th>runtime</th>\n",
       "      <th>spoken_languages</th>\n",
       "      <th>title</th>\n",
       "      <th>vote_average</th>\n",
       "      <th>vote_count</th>\n",
       "    </tr>\n",
       "  </thead>\n",
       "  <tbody>\n",
       "    <tr>\n",
       "      <th>4662</th>\n",
       "      <td>[{\"id\": 35, \"name\": \"Comedy\"}]</td>\n",
       "      <td>en</td>\n",
       "      <td>An aging out of work clown returns to his smal...</td>\n",
       "      <td>0.092100</td>\n",
       "      <td>2006-01-01</td>\n",
       "      <td>0.0</td>\n",
       "      <td>[{\"iso_639_1\": \"en\", \"name\": \"English\"}]</td>\n",
       "      <td>Little Big Top</td>\n",
       "      <td>10.0</td>\n",
       "      <td>1</td>\n",
       "    </tr>\n",
       "    <tr>\n",
       "      <th>4247</th>\n",
       "      <td>[{\"id\": 10749, \"name\": \"Romance\"}, {\"id\": 35, ...</td>\n",
       "      <td>en</td>\n",
       "      <td>A womanizing yet lovable loser, Charlie, a wai...</td>\n",
       "      <td>0.094105</td>\n",
       "      <td>2015-07-07</td>\n",
       "      <td>90.0</td>\n",
       "      <td>[]</td>\n",
       "      <td>Me You and Five Bucks</td>\n",
       "      <td>10.0</td>\n",
       "      <td>2</td>\n",
       "    </tr>\n",
       "    <tr>\n",
       "      <th>4045</th>\n",
       "      <td>[{\"id\": 35, \"name\": \"Comedy\"}, {\"id\": 18, \"nam...</td>\n",
       "      <td>en</td>\n",
       "      <td>Four guys, best friends, have grown up togethe...</td>\n",
       "      <td>0.376662</td>\n",
       "      <td>1998-05-01</td>\n",
       "      <td>97.0</td>\n",
       "      <td>[{\"iso_639_1\": \"en\", \"name\": \"English\"}]</td>\n",
       "      <td>Dancer, Texas Pop. 81</td>\n",
       "      <td>10.0</td>\n",
       "      <td>1</td>\n",
       "    </tr>\n",
       "    <tr>\n",
       "      <th>3519</th>\n",
       "      <td>[{\"id\": 35, \"name\": \"Comedy\"}]</td>\n",
       "      <td>en</td>\n",
       "      <td>Stiff Upper Lips is a broad parody of British ...</td>\n",
       "      <td>0.356495</td>\n",
       "      <td>1998-06-12</td>\n",
       "      <td>99.0</td>\n",
       "      <td>[{\"iso_639_1\": \"en\", \"name\": \"English\"}]</td>\n",
       "      <td>Stiff Upper Lips</td>\n",
       "      <td>10.0</td>\n",
       "      <td>1</td>\n",
       "    </tr>\n",
       "    <tr>\n",
       "      <th>3992</th>\n",
       "      <td>[]</td>\n",
       "      <td>en</td>\n",
       "      <td>A ghost hunter uses bottles to capture trouble...</td>\n",
       "      <td>0.296981</td>\n",
       "      <td>2015-06-26</td>\n",
       "      <td>0.0</td>\n",
       "      <td>[]</td>\n",
       "      <td>Sardaarji</td>\n",
       "      <td>9.5</td>\n",
       "      <td>2</td>\n",
       "    </tr>\n",
       "    <tr>\n",
       "      <th>...</th>\n",
       "      <td>...</td>\n",
       "      <td>...</td>\n",
       "      <td>...</td>\n",
       "      <td>...</td>\n",
       "      <td>...</td>\n",
       "      <td>...</td>\n",
       "      <td>...</td>\n",
       "      <td>...</td>\n",
       "      <td>...</td>\n",
       "      <td>...</td>\n",
       "    </tr>\n",
       "    <tr>\n",
       "      <th>3852</th>\n",
       "      <td>[{\"id\": 18, \"name\": \"Drama\"}]</td>\n",
       "      <td>en</td>\n",
       "      <td>The Secret is the story of a real-life double ...</td>\n",
       "      <td>0.042346</td>\n",
       "      <td>2016-04-29</td>\n",
       "      <td>200.0</td>\n",
       "      <td>[]</td>\n",
       "      <td>The Secret</td>\n",
       "      <td>0.0</td>\n",
       "      <td>0</td>\n",
       "    </tr>\n",
       "    <tr>\n",
       "      <th>4660</th>\n",
       "      <td>[{\"id\": 99, \"name\": \"Documentary\"}]</td>\n",
       "      <td>en</td>\n",
       "      <td>Give Me Shelter is a documentary to raise awar...</td>\n",
       "      <td>0.278981</td>\n",
       "      <td>2014-06-24</td>\n",
       "      <td>90.0</td>\n",
       "      <td>[{\"iso_639_1\": \"en\", \"name\": \"English\"}]</td>\n",
       "      <td>Give Me Shelter</td>\n",
       "      <td>0.0</td>\n",
       "      <td>0</td>\n",
       "    </tr>\n",
       "    <tr>\n",
       "      <th>4305</th>\n",
       "      <td>[{\"id\": 35, \"name\": \"Comedy\"}, {\"id\": 10402, \"...</td>\n",
       "      <td>en</td>\n",
       "      <td>The raunchy, spunky tale of the rise and fall ...</td>\n",
       "      <td>0.002386</td>\n",
       "      <td>2003-03-20</td>\n",
       "      <td>88.0</td>\n",
       "      <td>[]</td>\n",
       "      <td>Down &amp; Out With The Dolls</td>\n",
       "      <td>0.0</td>\n",
       "      <td>0</td>\n",
       "    </tr>\n",
       "    <tr>\n",
       "      <th>4293</th>\n",
       "      <td>[]</td>\n",
       "      <td>en</td>\n",
       "      <td>The Algerian is an international political thr...</td>\n",
       "      <td>0.025364</td>\n",
       "      <td>2015-08-07</td>\n",
       "      <td>99.0</td>\n",
       "      <td>[]</td>\n",
       "      <td>The Algerian</td>\n",
       "      <td>0.0</td>\n",
       "      <td>0</td>\n",
       "    </tr>\n",
       "    <tr>\n",
       "      <th>4065</th>\n",
       "      <td>[{\"id\": 18, \"name\": \"Drama\"}, {\"id\": 80, \"name...</td>\n",
       "      <td>en</td>\n",
       "      <td>A hate-crime has been committed in a the small...</td>\n",
       "      <td>0.039007</td>\n",
       "      <td>2015-10-16</td>\n",
       "      <td>126.0</td>\n",
       "      <td>[{\"iso_639_1\": \"es\", \"name\": \"Espa\\u00f1ol\"}, ...</td>\n",
       "      <td>Mi America</td>\n",
       "      <td>0.0</td>\n",
       "      <td>0</td>\n",
       "    </tr>\n",
       "  </tbody>\n",
       "</table>\n",
       "<p>4803 rows × 10 columns</p>\n",
       "</div>"
      ],
      "text/plain": [
       "                                                 genres original_language  \\\n",
       "4662                     [{\"id\": 35, \"name\": \"Comedy\"}]                en   \n",
       "4247  [{\"id\": 10749, \"name\": \"Romance\"}, {\"id\": 35, ...                en   \n",
       "4045  [{\"id\": 35, \"name\": \"Comedy\"}, {\"id\": 18, \"nam...                en   \n",
       "3519                     [{\"id\": 35, \"name\": \"Comedy\"}]                en   \n",
       "3992                                                 []                en   \n",
       "...                                                 ...               ...   \n",
       "3852                      [{\"id\": 18, \"name\": \"Drama\"}]                en   \n",
       "4660                [{\"id\": 99, \"name\": \"Documentary\"}]                en   \n",
       "4305  [{\"id\": 35, \"name\": \"Comedy\"}, {\"id\": 10402, \"...                en   \n",
       "4293                                                 []                en   \n",
       "4065  [{\"id\": 18, \"name\": \"Drama\"}, {\"id\": 80, \"name...                en   \n",
       "\n",
       "                                               overview  popularity  \\\n",
       "4662  An aging out of work clown returns to his smal...    0.092100   \n",
       "4247  A womanizing yet lovable loser, Charlie, a wai...    0.094105   \n",
       "4045  Four guys, best friends, have grown up togethe...    0.376662   \n",
       "3519  Stiff Upper Lips is a broad parody of British ...    0.356495   \n",
       "3992  A ghost hunter uses bottles to capture trouble...    0.296981   \n",
       "...                                                 ...         ...   \n",
       "3852  The Secret is the story of a real-life double ...    0.042346   \n",
       "4660  Give Me Shelter is a documentary to raise awar...    0.278981   \n",
       "4305  The raunchy, spunky tale of the rise and fall ...    0.002386   \n",
       "4293  The Algerian is an international political thr...    0.025364   \n",
       "4065  A hate-crime has been committed in a the small...    0.039007   \n",
       "\n",
       "     release_date  runtime                                   spoken_languages  \\\n",
       "4662   2006-01-01      0.0           [{\"iso_639_1\": \"en\", \"name\": \"English\"}]   \n",
       "4247   2015-07-07     90.0                                                 []   \n",
       "4045   1998-05-01     97.0           [{\"iso_639_1\": \"en\", \"name\": \"English\"}]   \n",
       "3519   1998-06-12     99.0           [{\"iso_639_1\": \"en\", \"name\": \"English\"}]   \n",
       "3992   2015-06-26      0.0                                                 []   \n",
       "...           ...      ...                                                ...   \n",
       "3852   2016-04-29    200.0                                                 []   \n",
       "4660   2014-06-24     90.0           [{\"iso_639_1\": \"en\", \"name\": \"English\"}]   \n",
       "4305   2003-03-20     88.0                                                 []   \n",
       "4293   2015-08-07     99.0                                                 []   \n",
       "4065   2015-10-16    126.0  [{\"iso_639_1\": \"es\", \"name\": \"Espa\\u00f1ol\"}, ...   \n",
       "\n",
       "                          title  vote_average  vote_count  \n",
       "4662             Little Big Top          10.0           1  \n",
       "4247      Me You and Five Bucks          10.0           2  \n",
       "4045      Dancer, Texas Pop. 81          10.0           1  \n",
       "3519           Stiff Upper Lips          10.0           1  \n",
       "3992                  Sardaarji           9.5           2  \n",
       "...                         ...           ...         ...  \n",
       "3852                 The Secret           0.0           0  \n",
       "4660            Give Me Shelter           0.0           0  \n",
       "4305  Down & Out With The Dolls           0.0           0  \n",
       "4293               The Algerian           0.0           0  \n",
       "4065                 Mi America           0.0           0  \n",
       "\n",
       "[4803 rows x 10 columns]"
      ]
     },
     "execution_count": 6,
     "metadata": {},
     "output_type": "execute_result"
    }
   ],
   "source": [
    "df.sort_values(\"vote_average\", ascending=False)"
   ]
  },
  {
   "cell_type": "code",
   "execution_count": 7,
   "metadata": {
    "execution": {
     "iopub.execute_input": "2024-12-06T10:32:46.636347Z",
     "iopub.status.busy": "2024-12-06T10:32:46.635636Z",
     "iopub.status.idle": "2024-12-06T10:32:46.642234Z",
     "shell.execute_reply": "2024-12-06T10:32:46.641290Z",
     "shell.execute_reply.started": "2024-12-06T10:32:46.636303Z"
    },
    "trusted": true
   },
   "outputs": [],
   "source": [
    "# let's delete all lines when we have less than 20 votes \n",
    "df = df[df['vote_count'] >= 50]"
   ]
  },
  {
   "cell_type": "code",
   "execution_count": 8,
   "metadata": {
    "collapsed": true,
    "execution": {
     "iopub.execute_input": "2024-12-06T10:32:48.031988Z",
     "iopub.status.busy": "2024-12-06T10:32:48.031312Z",
     "iopub.status.idle": "2024-12-06T10:32:48.050739Z",
     "shell.execute_reply": "2024-12-06T10:32:48.049891Z",
     "shell.execute_reply.started": "2024-12-06T10:32:48.031950Z"
    },
    "jupyter": {
     "outputs_hidden": true,
     "source_hidden": true
    },
    "trusted": true
   },
   "outputs": [
    {
     "data": {
      "text/html": [
       "<div>\n",
       "<style scoped>\n",
       "    .dataframe tbody tr th:only-of-type {\n",
       "        vertical-align: middle;\n",
       "    }\n",
       "\n",
       "    .dataframe tbody tr th {\n",
       "        vertical-align: top;\n",
       "    }\n",
       "\n",
       "    .dataframe thead th {\n",
       "        text-align: right;\n",
       "    }\n",
       "</style>\n",
       "<table border=\"1\" class=\"dataframe\">\n",
       "  <thead>\n",
       "    <tr style=\"text-align: right;\">\n",
       "      <th></th>\n",
       "      <th>genres</th>\n",
       "      <th>original_language</th>\n",
       "      <th>overview</th>\n",
       "      <th>popularity</th>\n",
       "      <th>release_date</th>\n",
       "      <th>runtime</th>\n",
       "      <th>spoken_languages</th>\n",
       "      <th>title</th>\n",
       "      <th>vote_average</th>\n",
       "      <th>vote_count</th>\n",
       "    </tr>\n",
       "  </thead>\n",
       "  <tbody>\n",
       "    <tr>\n",
       "      <th>1881</th>\n",
       "      <td>[{\"id\": 18, \"name\": \"Drama\"}, {\"id\": 80, \"name...</td>\n",
       "      <td>en</td>\n",
       "      <td>Framed in the 1940s for the double murder of h...</td>\n",
       "      <td>136.747729</td>\n",
       "      <td>1994-09-23</td>\n",
       "      <td>142.0</td>\n",
       "      <td>[{\"iso_639_1\": \"en\", \"name\": \"English\"}]</td>\n",
       "      <td>The Shawshank Redemption</td>\n",
       "      <td>8.5</td>\n",
       "      <td>8205</td>\n",
       "    </tr>\n",
       "    <tr>\n",
       "      <th>3337</th>\n",
       "      <td>[{\"id\": 18, \"name\": \"Drama\"}, {\"id\": 80, \"name...</td>\n",
       "      <td>en</td>\n",
       "      <td>Spanning the years 1945 to 1955, a chronicle o...</td>\n",
       "      <td>143.659698</td>\n",
       "      <td>1972-03-14</td>\n",
       "      <td>175.0</td>\n",
       "      <td>[{\"iso_639_1\": \"en\", \"name\": \"English\"}, {\"iso...</td>\n",
       "      <td>The Godfather</td>\n",
       "      <td>8.4</td>\n",
       "      <td>5893</td>\n",
       "    </tr>\n",
       "    <tr>\n",
       "      <th>2294</th>\n",
       "      <td>[{\"id\": 14, \"name\": \"Fantasy\"}, {\"id\": 12, \"na...</td>\n",
       "      <td>ja</td>\n",
       "      <td>A ten year old girl who wanders away from her ...</td>\n",
       "      <td>118.968562</td>\n",
       "      <td>2001-07-20</td>\n",
       "      <td>125.0</td>\n",
       "      <td>[{\"iso_639_1\": \"ja\", \"name\": \"\\u65e5\\u672c\\u8a...</td>\n",
       "      <td>Spirited Away</td>\n",
       "      <td>8.3</td>\n",
       "      <td>3840</td>\n",
       "    </tr>\n",
       "    <tr>\n",
       "      <th>2731</th>\n",
       "      <td>[{\"id\": 18, \"name\": \"Drama\"}, {\"id\": 80, \"name...</td>\n",
       "      <td>en</td>\n",
       "      <td>In the continuing saga of the Corleone crime f...</td>\n",
       "      <td>105.792936</td>\n",
       "      <td>1974-12-20</td>\n",
       "      <td>200.0</td>\n",
       "      <td>[{\"iso_639_1\": \"en\", \"name\": \"English\"}, {\"iso...</td>\n",
       "      <td>The Godfather: Part II</td>\n",
       "      <td>8.3</td>\n",
       "      <td>3338</td>\n",
       "    </tr>\n",
       "    <tr>\n",
       "      <th>3865</th>\n",
       "      <td>[{\"id\": 18, \"name\": \"Drama\"}]</td>\n",
       "      <td>en</td>\n",
       "      <td>Under the direction of a ruthless instructor, ...</td>\n",
       "      <td>192.528841</td>\n",
       "      <td>2014-10-10</td>\n",
       "      <td>105.0</td>\n",
       "      <td>[{\"iso_639_1\": \"en\", \"name\": \"English\"}]</td>\n",
       "      <td>Whiplash</td>\n",
       "      <td>8.3</td>\n",
       "      <td>4254</td>\n",
       "    </tr>\n",
       "    <tr>\n",
       "      <th>...</th>\n",
       "      <td>...</td>\n",
       "      <td>...</td>\n",
       "      <td>...</td>\n",
       "      <td>...</td>\n",
       "      <td>...</td>\n",
       "      <td>...</td>\n",
       "      <td>...</td>\n",
       "      <td>...</td>\n",
       "      <td>...</td>\n",
       "      <td>...</td>\n",
       "    </tr>\n",
       "    <tr>\n",
       "      <th>1265</th>\n",
       "      <td>[{\"id\": 27, \"name\": \"Horror\"}, {\"id\": 53, \"nam...</td>\n",
       "      <td>en</td>\n",
       "      <td>With four corpses on his hands, New York City ...</td>\n",
       "      <td>6.756886</td>\n",
       "      <td>2002-08-09</td>\n",
       "      <td>101.0</td>\n",
       "      <td>[{\"iso_639_1\": \"en\", \"name\": \"English\"}, {\"iso...</td>\n",
       "      <td>FearDotCom</td>\n",
       "      <td>3.2</td>\n",
       "      <td>105</td>\n",
       "    </tr>\n",
       "    <tr>\n",
       "      <th>2237</th>\n",
       "      <td>[{\"id\": 28, \"name\": \"Action\"}, {\"id\": 14, \"nam...</td>\n",
       "      <td>en</td>\n",
       "      <td>Edward Carnby is a private investigator specia...</td>\n",
       "      <td>9.292987</td>\n",
       "      <td>2005-01-28</td>\n",
       "      <td>96.0</td>\n",
       "      <td>[{\"iso_639_1\": \"en\", \"name\": \"English\"}, {\"iso...</td>\n",
       "      <td>Alone in the Dark</td>\n",
       "      <td>3.1</td>\n",
       "      <td>173</td>\n",
       "    </tr>\n",
       "    <tr>\n",
       "      <th>480</th>\n",
       "      <td>[{\"id\": 28, \"name\": \"Action\"}, {\"id\": 878, \"na...</td>\n",
       "      <td>en</td>\n",
       "      <td>In the year 3000, man is no match for the Psyc...</td>\n",
       "      <td>7.891470</td>\n",
       "      <td>2000-05-10</td>\n",
       "      <td>118.0</td>\n",
       "      <td>[{\"iso_639_1\": \"en\", \"name\": \"English\"}, {\"iso...</td>\n",
       "      <td>Battlefield Earth</td>\n",
       "      <td>3.0</td>\n",
       "      <td>255</td>\n",
       "    </tr>\n",
       "    <tr>\n",
       "      <th>2194</th>\n",
       "      <td>[{\"id\": 28, \"name\": \"Action\"}, {\"id\": 35, \"nam...</td>\n",
       "      <td>en</td>\n",
       "      <td>In DISASTER MOVIE, the filmmaking team behind ...</td>\n",
       "      <td>16.238961</td>\n",
       "      <td>2008-08-29</td>\n",
       "      <td>87.0</td>\n",
       "      <td>[{\"iso_639_1\": \"en\", \"name\": \"English\"}]</td>\n",
       "      <td>Disaster Movie</td>\n",
       "      <td>3.0</td>\n",
       "      <td>240</td>\n",
       "    </tr>\n",
       "    <tr>\n",
       "      <th>1652</th>\n",
       "      <td>[{\"id\": 28, \"name\": \"Action\"}, {\"id\": 12, \"nam...</td>\n",
       "      <td>en</td>\n",
       "      <td>The young warrior Son Goku sets out on a quest...</td>\n",
       "      <td>21.677732</td>\n",
       "      <td>2009-04-01</td>\n",
       "      <td>85.0</td>\n",
       "      <td>[{\"iso_639_1\": \"en\", \"name\": \"English\"}, {\"iso...</td>\n",
       "      <td>Dragonball Evolution</td>\n",
       "      <td>2.9</td>\n",
       "      <td>462</td>\n",
       "    </tr>\n",
       "  </tbody>\n",
       "</table>\n",
       "<p>3652 rows × 10 columns</p>\n",
       "</div>"
      ],
      "text/plain": [
       "                                                 genres original_language  \\\n",
       "1881  [{\"id\": 18, \"name\": \"Drama\"}, {\"id\": 80, \"name...                en   \n",
       "3337  [{\"id\": 18, \"name\": \"Drama\"}, {\"id\": 80, \"name...                en   \n",
       "2294  [{\"id\": 14, \"name\": \"Fantasy\"}, {\"id\": 12, \"na...                ja   \n",
       "2731  [{\"id\": 18, \"name\": \"Drama\"}, {\"id\": 80, \"name...                en   \n",
       "3865                      [{\"id\": 18, \"name\": \"Drama\"}]                en   \n",
       "...                                                 ...               ...   \n",
       "1265  [{\"id\": 27, \"name\": \"Horror\"}, {\"id\": 53, \"nam...                en   \n",
       "2237  [{\"id\": 28, \"name\": \"Action\"}, {\"id\": 14, \"nam...                en   \n",
       "480   [{\"id\": 28, \"name\": \"Action\"}, {\"id\": 878, \"na...                en   \n",
       "2194  [{\"id\": 28, \"name\": \"Action\"}, {\"id\": 35, \"nam...                en   \n",
       "1652  [{\"id\": 28, \"name\": \"Action\"}, {\"id\": 12, \"nam...                en   \n",
       "\n",
       "                                               overview  popularity  \\\n",
       "1881  Framed in the 1940s for the double murder of h...  136.747729   \n",
       "3337  Spanning the years 1945 to 1955, a chronicle o...  143.659698   \n",
       "2294  A ten year old girl who wanders away from her ...  118.968562   \n",
       "2731  In the continuing saga of the Corleone crime f...  105.792936   \n",
       "3865  Under the direction of a ruthless instructor, ...  192.528841   \n",
       "...                                                 ...         ...   \n",
       "1265  With four corpses on his hands, New York City ...    6.756886   \n",
       "2237  Edward Carnby is a private investigator specia...    9.292987   \n",
       "480   In the year 3000, man is no match for the Psyc...    7.891470   \n",
       "2194  In DISASTER MOVIE, the filmmaking team behind ...   16.238961   \n",
       "1652  The young warrior Son Goku sets out on a quest...   21.677732   \n",
       "\n",
       "     release_date  runtime                                   spoken_languages  \\\n",
       "1881   1994-09-23    142.0           [{\"iso_639_1\": \"en\", \"name\": \"English\"}]   \n",
       "3337   1972-03-14    175.0  [{\"iso_639_1\": \"en\", \"name\": \"English\"}, {\"iso...   \n",
       "2294   2001-07-20    125.0  [{\"iso_639_1\": \"ja\", \"name\": \"\\u65e5\\u672c\\u8a...   \n",
       "2731   1974-12-20    200.0  [{\"iso_639_1\": \"en\", \"name\": \"English\"}, {\"iso...   \n",
       "3865   2014-10-10    105.0           [{\"iso_639_1\": \"en\", \"name\": \"English\"}]   \n",
       "...           ...      ...                                                ...   \n",
       "1265   2002-08-09    101.0  [{\"iso_639_1\": \"en\", \"name\": \"English\"}, {\"iso...   \n",
       "2237   2005-01-28     96.0  [{\"iso_639_1\": \"en\", \"name\": \"English\"}, {\"iso...   \n",
       "480    2000-05-10    118.0  [{\"iso_639_1\": \"en\", \"name\": \"English\"}, {\"iso...   \n",
       "2194   2008-08-29     87.0           [{\"iso_639_1\": \"en\", \"name\": \"English\"}]   \n",
       "1652   2009-04-01     85.0  [{\"iso_639_1\": \"en\", \"name\": \"English\"}, {\"iso...   \n",
       "\n",
       "                         title  vote_average  vote_count  \n",
       "1881  The Shawshank Redemption           8.5        8205  \n",
       "3337             The Godfather           8.4        5893  \n",
       "2294             Spirited Away           8.3        3840  \n",
       "2731    The Godfather: Part II           8.3        3338  \n",
       "3865                  Whiplash           8.3        4254  \n",
       "...                        ...           ...         ...  \n",
       "1265                FearDotCom           3.2         105  \n",
       "2237         Alone in the Dark           3.1         173  \n",
       "480          Battlefield Earth           3.0         255  \n",
       "2194            Disaster Movie           3.0         240  \n",
       "1652      Dragonball Evolution           2.9         462  \n",
       "\n",
       "[3652 rows x 10 columns]"
      ]
     },
     "execution_count": 8,
     "metadata": {},
     "output_type": "execute_result"
    }
   ],
   "source": [
    "df.sort_values(\"vote_average\", ascending=False)"
   ]
  },
  {
   "cell_type": "code",
   "execution_count": 9,
   "metadata": {
    "execution": {
     "iopub.execute_input": "2024-12-06T10:32:54.221993Z",
     "iopub.status.busy": "2024-12-06T10:32:54.221518Z",
     "iopub.status.idle": "2024-12-06T10:32:54.228791Z",
     "shell.execute_reply": "2024-12-06T10:32:54.227579Z",
     "shell.execute_reply.started": "2024-12-06T10:32:54.221951Z"
    },
    "trusted": true
   },
   "outputs": [
    {
     "data": {
      "text/plain": [
       "(3652, 10)"
      ]
     },
     "execution_count": 9,
     "metadata": {},
     "output_type": "execute_result"
    }
   ],
   "source": [
    "df.shape"
   ]
  },
  {
   "cell_type": "code",
   "execution_count": 10,
   "metadata": {
    "execution": {
     "iopub.execute_input": "2024-12-06T10:32:55.484573Z",
     "iopub.status.busy": "2024-12-06T10:32:55.483788Z",
     "iopub.status.idle": "2024-12-06T10:32:55.495491Z",
     "shell.execute_reply": "2024-12-06T10:32:55.494528Z",
     "shell.execute_reply.started": "2024-12-06T10:32:55.484539Z"
    },
    "trusted": true
   },
   "outputs": [
    {
     "data": {
      "text/plain": [
       "genres               22\n",
       "original_language    22\n",
       "overview             22\n",
       "popularity           22\n",
       "release_date         22\n",
       "runtime              22\n",
       "spoken_languages     22\n",
       "title                22\n",
       "vote_average         22\n",
       "vote_count           22\n",
       "dtype: int64"
      ]
     },
     "execution_count": 10,
     "metadata": {},
     "output_type": "execute_result"
    }
   ],
   "source": [
    "df[df[\"vote_average\"] >= 8.2].count()"
   ]
  },
  {
   "cell_type": "markdown",
   "metadata": {},
   "source": [
    "Here we're going to work with only 22 movie that have the vote average > 8.2 in order to reduce the complexity of our model"
   ]
  },
  {
   "cell_type": "code",
   "execution_count": 11,
   "metadata": {
    "execution": {
     "iopub.execute_input": "2024-12-06T10:32:57.490049Z",
     "iopub.status.busy": "2024-12-06T10:32:57.489193Z",
     "iopub.status.idle": "2024-12-06T10:32:57.495115Z",
     "shell.execute_reply": "2024-12-06T10:32:57.494066Z",
     "shell.execute_reply.started": "2024-12-06T10:32:57.490009Z"
    },
    "trusted": true
   },
   "outputs": [],
   "source": [
    "df = df[df[\"vote_average\"] >= 8.2]"
   ]
  },
  {
   "cell_type": "markdown",
   "metadata": {},
   "source": [
    "# Chatbot "
   ]
  },
  {
   "cell_type": "markdown",
   "metadata": {},
   "source": [
    "Let' first choose a pre-trained LLM model to help us communicate with the user.\n",
    "We choose the model DialoGPT of Hugging face library to do this job.\n"
   ]
  },
  {
   "cell_type": "code",
   "execution_count": 12,
   "metadata": {
    "execution": {
     "iopub.execute_input": "2024-12-06T10:33:01.354761Z",
     "iopub.status.busy": "2024-12-06T10:33:01.353960Z",
     "iopub.status.idle": "2024-12-06T10:33:19.233242Z",
     "shell.execute_reply": "2024-12-06T10:33:19.232069Z",
     "shell.execute_reply.started": "2024-12-06T10:33:01.354723Z"
    },
    "trusted": true
   },
   "outputs": [
    {
     "name": "stdout",
     "output_type": "stream",
     "text": [
      "Requirement already satisfied: transformers in /opt/conda/lib/python3.10/site-packages (4.46.3)\n",
      "Requirement already satisfied: filelock in /opt/conda/lib/python3.10/site-packages (from transformers) (3.15.1)\n",
      "Requirement already satisfied: huggingface-hub<1.0,>=0.23.2 in /opt/conda/lib/python3.10/site-packages (from transformers) (0.26.2)\n",
      "Requirement already satisfied: numpy>=1.17 in /opt/conda/lib/python3.10/site-packages (from transformers) (1.26.4)\n",
      "Requirement already satisfied: packaging>=20.0 in /opt/conda/lib/python3.10/site-packages (from transformers) (21.3)\n",
      "Requirement already satisfied: pyyaml>=5.1 in /opt/conda/lib/python3.10/site-packages (from transformers) (6.0.2)\n",
      "Requirement already satisfied: regex!=2019.12.17 in /opt/conda/lib/python3.10/site-packages (from transformers) (2024.5.15)\n",
      "Requirement already satisfied: requests in /opt/conda/lib/python3.10/site-packages (from transformers) (2.32.3)\n",
      "Requirement already satisfied: tokenizers<0.21,>=0.20 in /opt/conda/lib/python3.10/site-packages (from transformers) (0.20.3)\n",
      "Requirement already satisfied: safetensors>=0.4.1 in /opt/conda/lib/python3.10/site-packages (from transformers) (0.4.5)\n",
      "Requirement already satisfied: tqdm>=4.27 in /opt/conda/lib/python3.10/site-packages (from transformers) (4.66.4)\n",
      "Requirement already satisfied: fsspec>=2023.5.0 in /opt/conda/lib/python3.10/site-packages (from huggingface-hub<1.0,>=0.23.2->transformers) (2024.6.0)\n",
      "Requirement already satisfied: typing-extensions>=3.7.4.3 in /opt/conda/lib/python3.10/site-packages (from huggingface-hub<1.0,>=0.23.2->transformers) (4.12.2)\n",
      "Requirement already satisfied: pyparsing!=3.0.5,>=2.0.2 in /opt/conda/lib/python3.10/site-packages (from packaging>=20.0->transformers) (3.1.2)\n",
      "Requirement already satisfied: charset-normalizer<4,>=2 in /opt/conda/lib/python3.10/site-packages (from requests->transformers) (3.3.2)\n",
      "Requirement already satisfied: idna<4,>=2.5 in /opt/conda/lib/python3.10/site-packages (from requests->transformers) (3.7)\n",
      "Requirement already satisfied: urllib3<3,>=1.21.1 in /opt/conda/lib/python3.10/site-packages (from requests->transformers) (1.26.18)\n",
      "Requirement already satisfied: certifi>=2017.4.17 in /opt/conda/lib/python3.10/site-packages (from requests->transformers) (2024.6.2)\n",
      "Requirement already satisfied: torch in /opt/conda/lib/python3.10/site-packages (2.4.0)\n",
      "Requirement already satisfied: filelock in /opt/conda/lib/python3.10/site-packages (from torch) (3.15.1)\n",
      "Requirement already satisfied: typing-extensions>=4.8.0 in /opt/conda/lib/python3.10/site-packages (from torch) (4.12.2)\n",
      "Requirement already satisfied: sympy in /opt/conda/lib/python3.10/site-packages (from torch) (1.13.3)\n",
      "Requirement already satisfied: networkx in /opt/conda/lib/python3.10/site-packages (from torch) (3.3)\n",
      "Requirement already satisfied: jinja2 in /opt/conda/lib/python3.10/site-packages (from torch) (3.1.4)\n",
      "Requirement already satisfied: fsspec in /opt/conda/lib/python3.10/site-packages (from torch) (2024.6.0)\n",
      "Requirement already satisfied: MarkupSafe>=2.0 in /opt/conda/lib/python3.10/site-packages (from jinja2->torch) (2.1.5)\n",
      "Requirement already satisfied: mpmath<1.4,>=1.1.0 in /opt/conda/lib/python3.10/site-packages (from sympy->torch) (1.3.0)\n"
     ]
    }
   ],
   "source": [
    "!pip install transformers\n",
    "!pip install torch"
   ]
  },
  {
   "cell_type": "markdown",
   "metadata": {},
   "source": [
    "Before calling the model let's prepare the data to feed the model"
   ]
  },
  {
   "cell_type": "code",
   "execution_count": 13,
   "metadata": {
    "execution": {
     "iopub.execute_input": "2024-12-06T10:33:26.583932Z",
     "iopub.status.busy": "2024-12-06T10:33:26.583564Z",
     "iopub.status.idle": "2024-12-06T10:33:26.592811Z",
     "shell.execute_reply": "2024-12-06T10:33:26.591885Z",
     "shell.execute_reply.started": "2024-12-06T10:33:26.583898Z"
    },
    "trusted": true
   },
   "outputs": [],
   "source": [
    "# Filtrer les colonnes utiles\n",
    "context_columns = [\"title\", \"genres\", \"overview\", \"release_date\", \"vote_average\"]\n",
    "filtered_df = df[context_columns]\n",
    "\n",
    "# clean the dataset\n",
    "filtered_df = filtered_df.dropna(subset=[\"overview\", \"title\"])  # delete the movies without overview or title\n",
    "df = filtered_df"
   ]
  },
  {
   "cell_type": "code",
   "execution_count": 14,
   "metadata": {
    "execution": {
     "iopub.execute_input": "2024-12-06T10:33:28.290083Z",
     "iopub.status.busy": "2024-12-06T10:33:28.289257Z",
     "iopub.status.idle": "2024-12-06T10:33:28.301158Z",
     "shell.execute_reply": "2024-12-06T10:33:28.300215Z",
     "shell.execute_reply.started": "2024-12-06T10:33:28.290036Z"
    },
    "trusted": true
   },
   "outputs": [
    {
     "data": {
      "text/html": [
       "<div>\n",
       "<style scoped>\n",
       "    .dataframe tbody tr th:only-of-type {\n",
       "        vertical-align: middle;\n",
       "    }\n",
       "\n",
       "    .dataframe tbody tr th {\n",
       "        vertical-align: top;\n",
       "    }\n",
       "\n",
       "    .dataframe thead th {\n",
       "        text-align: right;\n",
       "    }\n",
       "</style>\n",
       "<table border=\"1\" class=\"dataframe\">\n",
       "  <thead>\n",
       "    <tr style=\"text-align: right;\">\n",
       "      <th></th>\n",
       "      <th>title</th>\n",
       "      <th>genres</th>\n",
       "      <th>overview</th>\n",
       "      <th>release_date</th>\n",
       "      <th>vote_average</th>\n",
       "    </tr>\n",
       "  </thead>\n",
       "  <tbody>\n",
       "    <tr>\n",
       "      <th>65</th>\n",
       "      <td>The Dark Knight</td>\n",
       "      <td>[{\"id\": 18, \"name\": \"Drama\"}, {\"id\": 28, \"name...</td>\n",
       "      <td>Batman raises the stakes in his war on crime. ...</td>\n",
       "      <td>2008-07-16</td>\n",
       "      <td>8.2</td>\n",
       "    </tr>\n",
       "    <tr>\n",
       "      <th>662</th>\n",
       "      <td>Fight Club</td>\n",
       "      <td>[{\"id\": 18, \"name\": \"Drama\"}]</td>\n",
       "      <td>A ticking-time-bomb insomniac and a slippery s...</td>\n",
       "      <td>1999-10-15</td>\n",
       "      <td>8.3</td>\n",
       "    </tr>\n",
       "    <tr>\n",
       "      <th>690</th>\n",
       "      <td>The Green Mile</td>\n",
       "      <td>[{\"id\": 14, \"name\": \"Fantasy\"}, {\"id\": 18, \"na...</td>\n",
       "      <td>A supernatural tale set on death row in a Sout...</td>\n",
       "      <td>1999-12-10</td>\n",
       "      <td>8.2</td>\n",
       "    </tr>\n",
       "    <tr>\n",
       "      <th>809</th>\n",
       "      <td>Forrest Gump</td>\n",
       "      <td>[{\"id\": 35, \"name\": \"Comedy\"}, {\"id\": 18, \"nam...</td>\n",
       "      <td>A man with a low IQ has accomplished great thi...</td>\n",
       "      <td>1994-07-06</td>\n",
       "      <td>8.2</td>\n",
       "    </tr>\n",
       "    <tr>\n",
       "      <th>1663</th>\n",
       "      <td>Once Upon a Time in America</td>\n",
       "      <td>[{\"id\": 18, \"name\": \"Drama\"}, {\"id\": 80, \"name...</td>\n",
       "      <td>A former Prohibition-era Jewish gangster retur...</td>\n",
       "      <td>1984-02-16</td>\n",
       "      <td>8.2</td>\n",
       "    </tr>\n",
       "  </tbody>\n",
       "</table>\n",
       "</div>"
      ],
      "text/plain": [
       "                            title  \\\n",
       "65                The Dark Knight   \n",
       "662                    Fight Club   \n",
       "690                The Green Mile   \n",
       "809                  Forrest Gump   \n",
       "1663  Once Upon a Time in America   \n",
       "\n",
       "                                                 genres  \\\n",
       "65    [{\"id\": 18, \"name\": \"Drama\"}, {\"id\": 28, \"name...   \n",
       "662                       [{\"id\": 18, \"name\": \"Drama\"}]   \n",
       "690   [{\"id\": 14, \"name\": \"Fantasy\"}, {\"id\": 18, \"na...   \n",
       "809   [{\"id\": 35, \"name\": \"Comedy\"}, {\"id\": 18, \"nam...   \n",
       "1663  [{\"id\": 18, \"name\": \"Drama\"}, {\"id\": 80, \"name...   \n",
       "\n",
       "                                               overview release_date  \\\n",
       "65    Batman raises the stakes in his war on crime. ...   2008-07-16   \n",
       "662   A ticking-time-bomb insomniac and a slippery s...   1999-10-15   \n",
       "690   A supernatural tale set on death row in a Sout...   1999-12-10   \n",
       "809   A man with a low IQ has accomplished great thi...   1994-07-06   \n",
       "1663  A former Prohibition-era Jewish gangster retur...   1984-02-16   \n",
       "\n",
       "      vote_average  \n",
       "65             8.2  \n",
       "662            8.3  \n",
       "690            8.2  \n",
       "809            8.2  \n",
       "1663           8.2  "
      ]
     },
     "execution_count": 14,
     "metadata": {},
     "output_type": "execute_result"
    }
   ],
   "source": [
    "df.head()"
   ]
  },
  {
   "cell_type": "code",
   "execution_count": 15,
   "metadata": {
    "execution": {
     "iopub.execute_input": "2024-12-06T10:33:29.477654Z",
     "iopub.status.busy": "2024-12-06T10:33:29.477290Z",
     "iopub.status.idle": "2024-12-06T10:33:29.484616Z",
     "shell.execute_reply": "2024-12-06T10:33:29.483813Z",
     "shell.execute_reply.started": "2024-12-06T10:33:29.477619Z"
    },
    "trusted": true
   },
   "outputs": [
    {
     "name": "stdout",
     "output_type": "stream",
     "text": [
      "Title: The Dark Knight\n",
      "Overview: Batman raises the stakes in his war on crime. With the help of Lt. Jim Gordon and District Attorney Harvey Dent, Batman sets out to dismantle the remaining criminal organizations that plague the streets. The partnership proves to be effective, but they soon find themselves prey to a reign of chaos unleashed by a rising criminal mastermind known to the terrified citizens of Gotham as the Joker.\n",
      "Title: Fight Club\n",
      "Overview: A ticking-time-bomb insomniac and a slippe\n"
     ]
    }
   ],
   "source": [
    "def format_context(df):\n",
    "    formatted_context = \"\"\n",
    "    for _, row in df.iterrows():\n",
    "        formatted_context += f\"Title: {row['title']}\\n\"\n",
    "        #formatted_context += f\"Genres: {row['genres']}\\n\"\n",
    "        formatted_context += f\"Overview: {row['overview']}\\n\"\n",
    "    return formatted_context\n",
    "\n",
    "# Formater les données pour le modèle\n",
    "context = format_context(df)\n",
    "print(context[:500])  # show 100 first character"
   ]
  },
  {
   "cell_type": "code",
   "execution_count": 16,
   "metadata": {
    "execution": {
     "iopub.execute_input": "2024-12-06T10:33:31.329151Z",
     "iopub.status.busy": "2024-12-06T10:33:31.328821Z",
     "iopub.status.idle": "2024-12-06T10:33:31.333942Z",
     "shell.execute_reply": "2024-12-06T10:33:31.333076Z",
     "shell.execute_reply.started": "2024-12-06T10:33:31.329120Z"
    },
    "trusted": true
   },
   "outputs": [
    {
     "name": "stdout",
     "output_type": "stream",
     "text": [
      "7259\n"
     ]
    }
   ],
   "source": [
    "print(len(context))"
   ]
  },
  {
   "cell_type": "markdown",
   "metadata": {},
   "source": [
    "Now the dataset is ready to feed the model (context)"
   ]
  },
  {
   "cell_type": "code",
   "execution_count": 17,
   "metadata": {
    "collapsed": true,
    "execution": {
     "iopub.execute_input": "2024-12-06T10:33:33.474779Z",
     "iopub.status.busy": "2024-12-06T10:33:33.474402Z",
     "iopub.status.idle": "2024-12-06T10:33:41.860613Z",
     "shell.execute_reply": "2024-12-06T10:33:41.859681Z",
     "shell.execute_reply.started": "2024-12-06T10:33:33.474750Z"
    },
    "jupyter": {
     "outputs_hidden": true
    },
    "trusted": true
   },
   "outputs": [
    {
     "name": "stdout",
     "output_type": "stream",
     "text": [
      "Requirement already satisfied: transformers in /opt/conda/lib/python3.10/site-packages (4.46.3)\n",
      "Requirement already satisfied: accelerate in /opt/conda/lib/python3.10/site-packages (1.1.1)\n",
      "Requirement already satisfied: filelock in /opt/conda/lib/python3.10/site-packages (from transformers) (3.15.1)\n",
      "Requirement already satisfied: huggingface-hub<1.0,>=0.23.2 in /opt/conda/lib/python3.10/site-packages (from transformers) (0.26.2)\n",
      "Requirement already satisfied: numpy>=1.17 in /opt/conda/lib/python3.10/site-packages (from transformers) (1.26.4)\n",
      "Requirement already satisfied: packaging>=20.0 in /opt/conda/lib/python3.10/site-packages (from transformers) (21.3)\n",
      "Requirement already satisfied: pyyaml>=5.1 in /opt/conda/lib/python3.10/site-packages (from transformers) (6.0.2)\n",
      "Requirement already satisfied: regex!=2019.12.17 in /opt/conda/lib/python3.10/site-packages (from transformers) (2024.5.15)\n",
      "Requirement already satisfied: requests in /opt/conda/lib/python3.10/site-packages (from transformers) (2.32.3)\n",
      "Requirement already satisfied: tokenizers<0.21,>=0.20 in /opt/conda/lib/python3.10/site-packages (from transformers) (0.20.3)\n",
      "Requirement already satisfied: safetensors>=0.4.1 in /opt/conda/lib/python3.10/site-packages (from transformers) (0.4.5)\n",
      "Requirement already satisfied: tqdm>=4.27 in /opt/conda/lib/python3.10/site-packages (from transformers) (4.66.4)\n",
      "Requirement already satisfied: psutil in /opt/conda/lib/python3.10/site-packages (from accelerate) (5.9.3)\n",
      "Requirement already satisfied: torch>=1.10.0 in /opt/conda/lib/python3.10/site-packages (from accelerate) (2.4.0)\n",
      "Requirement already satisfied: fsspec>=2023.5.0 in /opt/conda/lib/python3.10/site-packages (from huggingface-hub<1.0,>=0.23.2->transformers) (2024.6.0)\n",
      "Requirement already satisfied: typing-extensions>=3.7.4.3 in /opt/conda/lib/python3.10/site-packages (from huggingface-hub<1.0,>=0.23.2->transformers) (4.12.2)\n",
      "Requirement already satisfied: pyparsing!=3.0.5,>=2.0.2 in /opt/conda/lib/python3.10/site-packages (from packaging>=20.0->transformers) (3.1.2)\n",
      "Requirement already satisfied: sympy in /opt/conda/lib/python3.10/site-packages (from torch>=1.10.0->accelerate) (1.13.3)\n",
      "Requirement already satisfied: networkx in /opt/conda/lib/python3.10/site-packages (from torch>=1.10.0->accelerate) (3.3)\n",
      "Requirement already satisfied: jinja2 in /opt/conda/lib/python3.10/site-packages (from torch>=1.10.0->accelerate) (3.1.4)\n",
      "Requirement already satisfied: charset-normalizer<4,>=2 in /opt/conda/lib/python3.10/site-packages (from requests->transformers) (3.3.2)\n",
      "Requirement already satisfied: idna<4,>=2.5 in /opt/conda/lib/python3.10/site-packages (from requests->transformers) (3.7)\n",
      "Requirement already satisfied: urllib3<3,>=1.21.1 in /opt/conda/lib/python3.10/site-packages (from requests->transformers) (1.26.18)\n",
      "Requirement already satisfied: certifi>=2017.4.17 in /opt/conda/lib/python3.10/site-packages (from requests->transformers) (2024.6.2)\n",
      "Requirement already satisfied: MarkupSafe>=2.0 in /opt/conda/lib/python3.10/site-packages (from jinja2->torch>=1.10.0->accelerate) (2.1.5)\n",
      "Requirement already satisfied: mpmath<1.4,>=1.1.0 in /opt/conda/lib/python3.10/site-packages (from sympy->torch>=1.10.0->accelerate) (1.3.0)\n"
     ]
    }
   ],
   "source": [
    "!pip install transformers accelerate"
   ]
  },
  {
   "cell_type": "code",
   "execution_count": 18,
   "metadata": {
    "execution": {
     "iopub.execute_input": "2024-12-06T10:33:59.725086Z",
     "iopub.status.busy": "2024-12-06T10:33:59.724647Z",
     "iopub.status.idle": "2024-12-06T10:33:59.730718Z",
     "shell.execute_reply": "2024-12-06T10:33:59.729479Z",
     "shell.execute_reply.started": "2024-12-06T10:33:59.725038Z"
    },
    "trusted": true
   },
   "outputs": [],
   "source": [
    "token=\"drop-your-hugging-face-token-here\""
   ]
  },
  {
   "cell_type": "code",
   "execution_count": 19,
   "metadata": {
    "execution": {
     "iopub.execute_input": "2024-12-06T10:34:00.459128Z",
     "iopub.status.busy": "2024-12-06T10:34:00.458511Z",
     "iopub.status.idle": "2024-12-06T10:34:00.465613Z",
     "shell.execute_reply": "2024-12-06T10:34:00.464570Z",
     "shell.execute_reply.started": "2024-12-06T10:34:00.459093Z"
    },
    "trusted": true
   },
   "outputs": [],
   "source": [
    "# Call the model and feed it with our dataset : \n",
    "def ask_llm(user_input, context):\n",
    "    from transformers import AutoModelForCausalLM, AutoTokenizer\n",
    "    import torch\n",
    "\n",
    "    # call the model and the tokenizer\n",
    "    model_name = \"tiiuae/falcon-7b-instruct\"\n",
    "    tokenizer = AutoTokenizer.from_pretrained(model_name)\n",
    "    model = AutoModelForCausalLM.from_pretrained(model_name, device_map=\"auto\", torch_dtype=\"auto\")\n",
    "\n",
    "    # Create the prompt with contexte\n",
    "    prompt = f\"\"\"\n",
    "    You are a movie expert. Use the following movie database to answer questions:\n",
    "\n",
    "    {context}\n",
    "\n",
    "    Question: {user_input}\n",
    "    Answer:\n",
    "    \"\"\"\n",
    "    \n",
    "    # Tokenise and generate the response\n",
    "    input_ids = tokenizer.encode(prompt, return_tensors=\"pt\")\n",
    "    input_ids = input_ids.to('cuda')\n",
    "\n",
    "    # Let's add an atttention mask to our model \n",
    "    attention_mask = torch.ones(input_ids.shape, dtype=torch.long)\n",
    "    output_ids = model.generate(input_ids,attention_mask= attention_mask, max_length=5000, pad_token_id=tokenizer.eos_token_id)\n",
    "    \n",
    "    # Decode the response\n",
    "    response = tokenizer.decode(output_ids[:, input_ids.shape[-1]:][0], skip_special_tokens=True)\n",
    "    return response"
   ]
  },
  {
   "cell_type": "code",
   "execution_count": 20,
   "metadata": {
    "execution": {
     "iopub.execute_input": "2024-12-06T10:34:02.899656Z",
     "iopub.status.busy": "2024-12-06T10:34:02.899204Z",
     "iopub.status.idle": "2024-12-06T10:36:40.806195Z",
     "shell.execute_reply": "2024-12-06T10:36:40.805242Z",
     "shell.execute_reply.started": "2024-12-06T10:34:02.899618Z"
    },
    "trusted": true
   },
   "outputs": [
    {
     "data": {
      "application/vnd.jupyter.widget-view+json": {
       "model_id": "612cd449af8f4f97a78769da963d29ad",
       "version_major": 2,
       "version_minor": 0
      },
      "text/plain": [
       "tokenizer_config.json:   0%|          | 0.00/1.13k [00:00<?, ?B/s]"
      ]
     },
     "metadata": {},
     "output_type": "display_data"
    },
    {
     "data": {
      "application/vnd.jupyter.widget-view+json": {
       "model_id": "2461ae7929734ad9a41b8f24ecedb853",
       "version_major": 2,
       "version_minor": 0
      },
      "text/plain": [
       "tokenizer.json:   0%|          | 0.00/2.73M [00:00<?, ?B/s]"
      ]
     },
     "metadata": {},
     "output_type": "display_data"
    },
    {
     "data": {
      "application/vnd.jupyter.widget-view+json": {
       "model_id": "761536797ad54ea7aa94c47304afef7b",
       "version_major": 2,
       "version_minor": 0
      },
      "text/plain": [
       "special_tokens_map.json:   0%|          | 0.00/281 [00:00<?, ?B/s]"
      ]
     },
     "metadata": {},
     "output_type": "display_data"
    },
    {
     "data": {
      "application/vnd.jupyter.widget-view+json": {
       "model_id": "025b4807a384426492a030a22ec48ebb",
       "version_major": 2,
       "version_minor": 0
      },
      "text/plain": [
       "config.json:   0%|          | 0.00/1.05k [00:00<?, ?B/s]"
      ]
     },
     "metadata": {},
     "output_type": "display_data"
    },
    {
     "data": {
      "application/vnd.jupyter.widget-view+json": {
       "model_id": "4dc50ebe699545539936d169426e5784",
       "version_major": 2,
       "version_minor": 0
      },
      "text/plain": [
       "model.safetensors.index.json:   0%|          | 0.00/17.7k [00:00<?, ?B/s]"
      ]
     },
     "metadata": {},
     "output_type": "display_data"
    },
    {
     "data": {
      "application/vnd.jupyter.widget-view+json": {
       "model_id": "e0a266852e79419daa17910e4e2e3549",
       "version_major": 2,
       "version_minor": 0
      },
      "text/plain": [
       "Downloading shards:   0%|          | 0/2 [00:00<?, ?it/s]"
      ]
     },
     "metadata": {},
     "output_type": "display_data"
    },
    {
     "data": {
      "application/vnd.jupyter.widget-view+json": {
       "model_id": "f9f24313e6a74cd39f17af05311f9c98",
       "version_major": 2,
       "version_minor": 0
      },
      "text/plain": [
       "model-00001-of-00002.safetensors:   0%|          | 0.00/9.95G [00:00<?, ?B/s]"
      ]
     },
     "metadata": {},
     "output_type": "display_data"
    },
    {
     "data": {
      "application/vnd.jupyter.widget-view+json": {
       "model_id": "e63b44d3e8bf43f2b90873b8cfa66c91",
       "version_major": 2,
       "version_minor": 0
      },
      "text/plain": [
       "model-00002-of-00002.safetensors:   0%|          | 0.00/4.48G [00:00<?, ?B/s]"
      ]
     },
     "metadata": {},
     "output_type": "display_data"
    },
    {
     "data": {
      "application/vnd.jupyter.widget-view+json": {
       "model_id": "67ace3d7813d42c8a2fbb4b84cd5cb4e",
       "version_major": 2,
       "version_minor": 0
      },
      "text/plain": [
       "Loading checkpoint shards:   0%|          | 0/2 [00:00<?, ?it/s]"
      ]
     },
     "metadata": {},
     "output_type": "display_data"
    },
    {
     "data": {
      "application/vnd.jupyter.widget-view+json": {
       "model_id": "90816095b70244f49ec0e703a9b834f9",
       "version_major": 2,
       "version_minor": 0
      },
      "text/plain": [
       "generation_config.json:   0%|          | 0.00/117 [00:00<?, ?B/s]"
      ]
     },
     "metadata": {},
     "output_type": "display_data"
    },
    {
     "name": "stdout",
     "output_type": "stream",
     "text": [
      "- The Matrix (1999)\n",
      "    - The Dark Knight (2008)\n",
      "    - The Bourne Identity (2002)\n",
      "    - Die Hard (1988)\n",
      "    - Mad Max: Fury Road (2015)\n"
     ]
    }
   ],
   "source": [
    "user_question = \"Can you recommend a good action movie?\"\n",
    "print(ask_llm(user_question, context))"
   ]
  },
  {
   "cell_type": "code",
   "execution_count": 22,
   "metadata": {
    "execution": {
     "iopub.execute_input": "2024-12-06T10:37:30.483292Z",
     "iopub.status.busy": "2024-12-06T10:37:30.482452Z",
     "iopub.status.idle": "2024-12-06T10:37:58.530976Z",
     "shell.execute_reply": "2024-12-06T10:37:58.530032Z",
     "shell.execute_reply.started": "2024-12-06T10:37:30.483252Z"
    },
    "trusted": true
   },
   "outputs": [
    {
     "data": {
      "application/vnd.jupyter.widget-view+json": {
       "model_id": "ea37f3dfcfc4460e8c39c46aece3492f",
       "version_major": 2,
       "version_minor": 0
      },
      "text/plain": [
       "Loading checkpoint shards:   0%|          | 0/2 [00:00<?, ?it/s]"
      ]
     },
     "metadata": {},
     "output_type": "display_data"
    },
    {
     "name": "stdout",
     "output_type": "stream",
     "text": [
      "- The Shawshank Redemption: A man who is wrongfully convicted of a crime is sentenced to life in prison. He spends years in prison, learning the ways of the prison and the prison culture. He eventually escapes and is able to live a free life. The moral lesson is that you can overcome any obstacle if you have the courage to try.\n",
      "    - Forrest Gump: A man with a low IQ has a fulfilling life despite his limitations. He learns to love and be loved, and is able to make a difference in the world. The moral lesson is that everyone has their own unique talents and abilities, and that we should strive to use them to make the world a better place.\n"
     ]
    }
   ],
   "source": [
    "user_question = \"Can you recommend a movie with a moral lesson? and then tell me its story \"\n",
    "print(ask_llm(user_question, context))"
   ]
  },
  {
   "cell_type": "code",
   "execution_count": 23,
   "metadata": {
    "execution": {
     "iopub.execute_input": "2024-12-06T10:41:55.617947Z",
     "iopub.status.busy": "2024-12-06T10:41:55.617520Z",
     "iopub.status.idle": "2024-12-06T10:42:22.072090Z",
     "shell.execute_reply": "2024-12-06T10:42:22.071059Z",
     "shell.execute_reply.started": "2024-12-06T10:41:55.617907Z"
    },
    "trusted": true
   },
   "outputs": [
    {
     "data": {
      "application/vnd.jupyter.widget-view+json": {
       "model_id": "cc1f4fc00204406fa6c44dd5b3b8e545",
       "version_major": 2,
       "version_minor": 0
      },
      "text/plain": [
       "Loading checkpoint shards:   0%|          | 0/2 [00:00<?, ?it/s]"
      ]
     },
     "metadata": {},
     "output_type": "display_data"
    },
    {
     "name": "stdout",
     "output_type": "stream",
     "text": [
      "<a href=\"https://www.quizlet.com/quizlet/a/mind-bending-movies-quiz.html\" rel=\"nofollow noreferrer\">The Matrix</a> - A sci-fi action movie about a dystopian future where humans are unknowingly trapped inside a simulated reality created by machines to distract them while their bodies are used as an energy source. The movie explores themes of reality, freedom, and the nature of existence. The moral lesson is that we have the power to choose our own path in life and that we should strive to take control of our own destiny.\n"
     ]
    }
   ],
   "source": [
    "user_question = \"I want to watch something mind-bending. Any suggestions? tell me its story and the moral lesson.\"\n",
    "print(ask_llm(user_question, context))"
   ]
  },
  {
   "cell_type": "markdown",
   "metadata": {},
   "source": [
    "# **End of the project ✅**"
   ]
  },
  {
   "cell_type": "markdown",
   "metadata": {},
   "source": [
    "Mission accomplished! 🎬 Your movie-savvy chatbot is ready to light up your movie nights and chat about films like a true expert (well, almost). Whether you're in the mood for romance, craving action, or hunting for a hidden gem, it’s got you covered. So grab your popcorn🍿😄"
   ]
  }
 ],
 "metadata": {
  "kaggle": {
   "accelerator": "nvidiaTeslaT4",
   "dataSources": [
    {
     "databundleVersionId": 4355718,
     "datasetId": 2532320,
     "sourceId": 4297758,
     "sourceType": "datasetVersion"
    }
   ],
   "dockerImageVersionId": 30805,
   "isGpuEnabled": true,
   "isInternetEnabled": true,
   "language": "python",
   "sourceType": "notebook"
  },
  "kernelspec": {
   "display_name": "Python 3",
   "language": "python",
   "name": "python3"
  },
  "language_info": {
   "codemirror_mode": {
    "name": "ipython",
    "version": 3
   },
   "file_extension": ".py",
   "mimetype": "text/x-python",
   "name": "python",
   "nbconvert_exporter": "python",
   "pygments_lexer": "ipython3",
   "version": "3.10.14"
  }
 },
 "nbformat": 4,
 "nbformat_minor": 4
}
